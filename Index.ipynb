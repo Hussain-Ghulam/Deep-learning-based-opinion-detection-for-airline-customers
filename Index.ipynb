{
 "cells": [
  {
   "cell_type": "code",
   "execution_count": 1,
   "id": "42a696d8",
   "metadata": {},
   "outputs": [],
   "source": [
    "import numpy as np\n",
    "import pandas as pd\n",
    "import nltk\n",
    "import re\n",
    "import matplotlib.pyplot as plt\n",
    "%matplotlib inline"
   ]
  },
  {
   "cell_type": "code",
   "execution_count": 5,
   "id": "cbac6988",
   "metadata": {},
   "outputs": [],
   "source": [
    "data = pd.read_csv('Tweets.csv')"
   ]
  },
  {
   "cell_type": "code",
   "execution_count": 10,
   "id": "ba4390f0",
   "metadata": {},
   "outputs": [],
   "source": [
    "#data.head()"
   ]
  },
  {
   "cell_type": "code",
   "execution_count": 15,
   "id": "914fa5ed",
   "metadata": {},
   "outputs": [],
   "source": [
    "#sentiment_plot = data.groupby(['airline', 'airline_sentiment']).airline_sentiment.count().unstack().plot(kind = 'bar', figsize = (20, 10), fontsize = 12.0, xlabel = ('Airline'), ylabel = 'Sentiments Count', color=['#b30000', 'blue', 'yellow'])"
   ]
  },
  {
   "cell_type": "code",
   "execution_count": 16,
   "id": "578e159b",
   "metadata": {},
   "outputs": [],
   "source": [
    "features = data.iloc[:,10]\n",
    "target = data.iloc[:,1]"
   ]
  },
  {
   "cell_type": "code",
   "execution_count": 17,
   "id": "7dff1e53",
   "metadata": {},
   "outputs": [],
   "source": [
    "#This piece of code will be used to clean the Irrelevant​ features like punctuation,commas and tages.\n",
    "processed_features = []\n",
    "for sentence in range(0, len(features)):\n",
    "    processed_feature = re.sub(r'\\W', ' ', str(features[sentence]))\n",
    "\n",
    "    #remove all single characters\n",
    "    processed_feature= re.sub(r'\\s+[a-zA-Z]\\s+', ' ', processed_feature)\n",
    "\n",
    "    #remove single characters from the start\n",
    "    processed_feature = re.sub(r'\\^[a-zA-Z]\\s+', ' ', processed_feature) \n",
    "\n",
    "    #Substituting multiple spaces with single space\n",
    "    processed_feature = re.sub(r'\\s+', ' ', processed_feature, flags=re.I)\n",
    "\n",
    "    #removing prefixed 'b'\n",
    "    processed_feature = re.sub(r'^b\\s+', '', processed_feature)\n",
    "    \n",
    "    #ronverting to Lowercase\n",
    "    processed_feature = processed_feature.lower()\n",
    "\n",
    "    processed_features.append(processed_feature)\n",
    "    "
   ]
  },
  {
   "cell_type": "code",
   "execution_count": 18,
   "id": "bec5dd47",
   "metadata": {},
   "outputs": [
    {
     "name": "stderr",
     "output_type": "stream",
     "text": [
      "[nltk_data] Downloading package stopwords to\n",
      "[nltk_data]     C:\\Users\\ghussain\\AppData\\Roaming\\nltk_data...\n",
      "[nltk_data]   Unzipping corpora\\stopwords.zip.\n"
     ]
    }
   ],
   "source": [
    "#This piece of code can use stop words to remove the meaningless words like the, his, him and she.\n",
    "corpus = []\n",
    "nltk.download('stopwords')\n",
    "from nltk.corpus import stopwords\n",
    "stopwords = set(stopwords.words('english'))\n",
    "for sentence in processed_features:\n",
    "    sentence = sentence.lower()\n",
    "    words = sentence.split(\" \")\n",
    "    \n",
    "    filtered_words = [word.lower() for word in words if not word in stopwords]\n",
    "    corpus.append(\" \".join(filtered_words))"
   ]
  },
  {
   "cell_type": "code",
   "execution_count": 19,
   "id": "17807f21",
   "metadata": {},
   "outputs": [
    {
     "data": {
      "text/plain": [
       "(14640, 1700)"
      ]
     },
     "execution_count": 19,
     "metadata": {},
     "output_type": "execute_result"
    }
   ],
   "source": [
    "from sklearn.feature_extraction.text import TfidfVectorizer\n",
    "\n",
    "vectorizer = TfidfVectorizer(max_features=1700, min_df=10, max_df=0.75)\n",
    "processed_features = vectorizer.fit_transform(corpus).toarray()\n",
    "processed_features.shape"
   ]
  },
  {
   "cell_type": "code",
   "execution_count": 32,
   "id": "779b8215",
   "metadata": {},
   "outputs": [],
   "source": [
    "#Split data set into training and testing.\n",
    "from sklearn.model_selection import train_test_split\n",
    "\n",
    "X_train, X_test, y_train, y_test = train_test_split(processed_features, target, test_size=0.10, random_state=0)"
   ]
  },
  {
   "cell_type": "code",
   "execution_count": 33,
   "id": "fcfce7b3",
   "metadata": {},
   "outputs": [
    {
     "name": "stderr",
     "output_type": "stream",
     "text": [
      "[Parallel(n_jobs=1)]: Using backend SequentialBackend with 1 concurrent workers.\n",
      "[Parallel(n_jobs=1)]: Done   1 out of   1 | elapsed:    2.9s finished\n"
     ]
    },
    {
     "data": {
      "text/plain": [
       "LogisticRegression(max_iter=200, random_state=0, verbose=True)"
      ]
     },
     "execution_count": 33,
     "metadata": {},
     "output_type": "execute_result"
    }
   ],
   "source": [
    "#used Logistic Regression a machine learning algorithm.\n",
    "from sklearn.linear_model import LogisticRegression\n",
    "text_classifier = LogisticRegression(random_state = 0, max_iter = 200, solver = 'lbfgs', verbose = True)\n",
    "\n",
    "text_classifier.fit(X_train, y_train)"
   ]
  },
  {
   "cell_type": "code",
   "execution_count": 34,
   "id": "f70751e3",
   "metadata": {},
   "outputs": [],
   "source": [
    "predictions = text_classifier.predict(X_test)"
   ]
  },
  {
   "cell_type": "code",
   "execution_count": 35,
   "id": "f9273dd7",
   "metadata": {},
   "outputs": [
    {
     "name": "stdout",
     "output_type": "stream",
     "text": [
      "[[1733  110   27]\n",
      " [ 263  310   41]\n",
      " [ 119   61  264]]\n",
      "              precision    recall  f1-score   support\n",
      "\n",
      "    negative       0.82      0.93      0.87      1870\n",
      "     neutral       0.64      0.50      0.57       614\n",
      "    positive       0.80      0.59      0.68       444\n",
      "\n",
      "    accuracy                           0.79      2928\n",
      "   macro avg       0.75      0.68      0.71      2928\n",
      "weighted avg       0.78      0.79      0.78      2928\n",
      "\n",
      "0.7879098360655737\n"
     ]
    }
   ],
   "source": [
    "#Evaltation methods include precision,recall,fi-score and accuracy. \n",
    "from sklearn.metrics import accuracy_score, confusion_matrix, classification_report\n",
    "\n",
    "print(confusion_matrix(y_test, predictions))\n",
    "\n",
    "print(classification_report(y_test, predictions))\n",
    "\n",
    "print(accuracy_score(y_test, predictions))"
   ]
  },
  {
   "cell_type": "code",
   "execution_count": 51,
   "id": "4761d99d",
   "metadata": {},
   "outputs": [],
   "source": [
    "#in this section we will use deep learning methods to predict positive,negative and neutral sentiments.\n",
    "import tensorflow as tf\n",
    "#tf.__version__"
   ]
  },
  {
   "cell_type": "code",
   "execution_count": 52,
   "id": "ad9f949e",
   "metadata": {},
   "outputs": [],
   "source": [
    "from tensorflow import keras\n",
    "from tensorflow.keras import layers"
   ]
  },
  {
   "cell_type": "code",
   "execution_count": 65,
   "id": "7b485229",
   "metadata": {},
   "outputs": [],
   "source": [
    "from tensorflow.keras.preprocessing.text import Tokenizer\n",
    "from tensorflow.keras.preprocessing.sequence import pad_sequences\n",
    "from tensorflow.keras.models import Sequential\n",
    "from tensorflow.keras.layers import Dense, Flatten, Dropout, Activation\n",
    "from tensorflow.keras.layers import Embedding"
   ]
  },
  {
   "cell_type": "code",
   "execution_count": 75,
   "id": "263b2a71",
   "metadata": {},
   "outputs": [],
   "source": [
    "#Split data set into training and testing.\n",
    "ycat=pd.get_dummies(target).values\n",
    "X=features.values\n",
    "tk = Tokenizer()\n",
    "tk.fit_on_texts(X)\n",
    "X_seq = tk.texts_to_sequences(X)\n",
    "X_pad = pad_sequences(X_seq, maxlen=100, padding='post')\n",
    "X_train, X_test, y_train, y_test = train_test_split(X_pad, ycat, test_size = 0.20, random_state = 0)"
   ]
  },
  {
   "cell_type": "code",
   "execution_count": 76,
   "id": "33762059",
   "metadata": {},
   "outputs": [
    {
     "name": "stdout",
     "output_type": "stream",
     "text": [
      "Model: \"sequential_9\"\n",
      "_________________________________________________________________\n",
      " Layer (type)                Output Shape              Param #   \n",
      "=================================================================\n",
      " embedding_9 (Embedding)     (None, 100, 32)           504608    \n",
      "                                                                 \n",
      " flatten_9 (Flatten)         (None, 3200)              0         \n",
      "                                                                 \n",
      " dense_9 (Dense)             (None, 3)                 9603      \n",
      "                                                                 \n",
      "=================================================================\n",
      "Total params: 514,211\n",
      "Trainable params: 514,211\n",
      "Non-trainable params: 0\n",
      "_________________________________________________________________\n"
     ]
    }
   ],
   "source": [
    "#Hyperprameters tuning \n",
    "vocabulary_size = len(tk.word_counts.keys())+1\n",
    "max_words = 100\n",
    "embedding_size = 32\n",
    "model = Sequential()\n",
    "model.add(Embedding(vocabulary_size, embedding_size, input_length=max_words))\n",
    "model.add(Flatten())\n",
    "model.add(Dense(3, activation='softmax'))\n",
    "model.compile(loss='categorical_crossentropy', optimizer='adam', metrics=['accuracy'])\n",
    "model.summary()"
   ]
  },
  {
   "cell_type": "code",
   "execution_count": 78,
   "id": "ffc00717",
   "metadata": {},
   "outputs": [
    {
     "name": "stdout",
     "output_type": "stream",
     "text": [
      "Epoch 1/3\n",
      "366/366 [==============================] - 2s 5ms/step - loss: 0.1059 - accuracy: 0.9752 - val_loss: 0.5728 - val_accuracy: 0.8016\n",
      "Epoch 2/3\n",
      "366/366 [==============================] - 1s 4ms/step - loss: 0.0753 - accuracy: 0.9843 - val_loss: 0.6070 - val_accuracy: 0.7954\n",
      "Epoch 3/3\n",
      "366/366 [==============================] - 1s 4ms/step - loss: 0.0561 - accuracy: 0.9898 - val_loss: 0.6385 - val_accuracy: 0.7964\n"
     ]
    }
   ],
   "source": [
    "history=model.fit(X_train,y_train,validation_data=(X_test,y_test),batch_size=32,epochs=3,verbose=True)"
   ]
  },
  {
   "cell_type": "code",
   "execution_count": 80,
   "id": "d1ff8fd8",
   "metadata": {},
   "outputs": [
    {
     "name": "stdout",
     "output_type": "stream",
     "text": [
      "[[1968  545  415]\n",
      " [   0    0    0]\n",
      " [   0    0    0]]\n",
      "              precision    recall  f1-score   support\n",
      "\n",
      "    negative       1.00      0.67      0.80      2928\n",
      "     neutral       0.00      0.00      0.00         0\n",
      "    positive       0.00      0.00      0.00         0\n",
      "\n",
      "    accuracy                           0.67      2928\n",
      "   macro avg       0.33      0.22      0.27      2928\n",
      "weighted avg       1.00      0.67      0.80      2928\n",
      "\n",
      "0.6721311475409836\n"
     ]
    },
    {
     "name": "stderr",
     "output_type": "stream",
     "text": [
      "C:\\Users\\ghussain\\anaconda3\\lib\\site-packages\\sklearn\\metrics\\_classification.py:1248: UndefinedMetricWarning: Recall and F-score are ill-defined and being set to 0.0 in labels with no true samples. Use `zero_division` parameter to control this behavior.\n",
      "  _warn_prf(average, modifier, msg_start, len(result))\n",
      "C:\\Users\\ghussain\\anaconda3\\lib\\site-packages\\sklearn\\metrics\\_classification.py:1248: UndefinedMetricWarning: Recall and F-score are ill-defined and being set to 0.0 in labels with no true samples. Use `zero_division` parameter to control this behavior.\n",
      "  _warn_prf(average, modifier, msg_start, len(result))\n",
      "C:\\Users\\ghussain\\anaconda3\\lib\\site-packages\\sklearn\\metrics\\_classification.py:1248: UndefinedMetricWarning: Recall and F-score are ill-defined and being set to 0.0 in labels with no true samples. Use `zero_division` parameter to control this behavior.\n",
      "  _warn_prf(average, modifier, msg_start, len(result))\n"
     ]
    }
   ],
   "source": [
    "#Results/output\n",
    "predictions = [np.argmax(i) for i in model.predict(X_test)]\n",
    "y_test=[np.argmax(i) for i in y_test]\n",
    "\n",
    "print(confusion_matrix(y_test, predictions))\n",
    "\n",
    "print(classification_report(y_test,predictions,target_names=['negative','neutral','positive'])),\n",
    "\n",
    "print(accuracy_score(y_test, predictions))\n"
   ]
  },
  {
   "cell_type": "code",
   "execution_count": null,
   "id": "65e27d9e",
   "metadata": {},
   "outputs": [],
   "source": [
    "#Conclusion:- for small dataset, Machine learning baseline methods can have better results that Deep learning methods. The reson deep learning need huge data."
   ]
  }
 ],
 "metadata": {
  "kernelspec": {
   "display_name": "Python 3 (ipykernel)",
   "language": "python",
   "name": "python3"
  },
  "language_info": {
   "codemirror_mode": {
    "name": "ipython",
    "version": 3
   },
   "file_extension": ".py",
   "mimetype": "text/x-python",
   "name": "python",
   "nbconvert_exporter": "python",
   "pygments_lexer": "ipython3",
   "version": "3.9.7"
  }
 },
 "nbformat": 4,
 "nbformat_minor": 5
}
